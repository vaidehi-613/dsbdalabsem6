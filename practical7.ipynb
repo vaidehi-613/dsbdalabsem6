{
 "cells": [
  {
   "cell_type": "code",
   "execution_count": 5,
   "id": "be4b1ad2",
   "metadata": {},
   "outputs": [],
   "source": [
    "sentence1 = 'I will walk 500 miles and I would walk 500 more. Just to be the man who walks a thousand miles to fall down at your door!'\n",
    "sentence2 = 'I played the play playfully as the players were playing in the play with playfullness '"
   ]
  },
  {
   "cell_type": "markdown",
   "id": "65f2a971",
   "metadata": {},
   "source": [
    "# Tokenization"
   ]
  },
  {
   "cell_type": "code",
   "execution_count": 7,
   "id": "3f79e2ee",
   "metadata": {},
   "outputs": [
    {
     "name": "stdout",
     "output_type": "stream",
     "text": [
      "Tokenized words :  ['I', 'will', 'walk', '500', 'miles', 'and', 'I', 'would', 'walk', '500', 'more', '.', 'Just', 'to', 'be', 'the', 'man', 'who', 'walks', 'a', 'thousand', 'miles', 'to', 'fall', 'down', 'at', 'your', 'door', '!']\n",
      "\n",
      " Tokenized sentences :  ['I will walk 500 miles and I would walk 500 more.', 'Just to be the man who walks a thousand miles to fall down at your door!']\n"
     ]
    }
   ],
   "source": [
    "from nltk import word_tokenize, sent_tokenize\n",
    "\n",
    "print('Tokenized words : ',word_tokenize(sentence1))\n",
    "print('\\n Tokenized sentences : ', sent_tokenize(sentence1))"
   ]
  },
  {
   "cell_type": "markdown",
   "id": "7c3a5918",
   "metadata": {},
   "source": [
    "# POS Tagging"
   ]
  },
  {
   "cell_type": "code",
   "execution_count": 8,
   "id": "2b9c16b0",
   "metadata": {},
   "outputs": [
    {
     "name": "stdout",
     "output_type": "stream",
     "text": [
      "Tagging Parts of speech:  [('I', 'PRP'), ('will', 'MD'), ('walk', 'VB'), ('500', 'CD'), ('miles', 'NNS'), ('and', 'CC'), ('I', 'PRP'), ('would', 'MD'), ('walk', 'VB'), ('500', 'CD'), ('more', 'JJR'), ('.', '.'), ('Just', 'NNP'), ('to', 'TO'), ('be', 'VB'), ('the', 'DT'), ('man', 'NN'), ('who', 'WP'), ('walks', 'VBZ'), ('a', 'DT'), ('thousand', 'NN'), ('miles', 'NNS'), ('to', 'TO'), ('fall', 'VB'), ('down', 'RP'), ('at', 'IN'), ('your', 'PRP$'), ('door', 'NN'), ('!', '.'), ('I', 'PRP'), ('played', 'VBD'), ('the', 'DT'), ('play', 'NN'), ('playfully', 'RB'), ('as', 'IN'), ('the', 'DT'), ('players', 'NNS'), ('were', 'VBD'), ('playing', 'VBG'), ('in', 'IN'), ('the', 'DT'), ('play', 'NN'), ('with', 'IN'), ('playfullness', 'NN')]\n"
     ]
    }
   ],
   "source": [
    "from nltk import pos_tag\n",
    "\n",
    "token = word_tokenize(sentence1) + word_tokenize(sentence2)\n",
    "tagged = pos_tag(token)\n",
    "\n",
    "print('Tagging Parts of speech: ',tagged)"
   ]
  },
  {
   "cell_type": "markdown",
   "id": "fb2d552b",
   "metadata": {},
   "source": [
    "# Stop-words removal"
   ]
  },
  {
   "cell_type": "code",
   "execution_count": 9,
   "id": "a8f66c14",
   "metadata": {},
   "outputs": [
    {
     "name": "stdout",
     "output_type": "stream",
     "text": [
      "Unclean version :  ['I', 'will', 'walk', '500', 'miles', 'and', 'I', 'would', 'walk', '500', 'more', '.', 'Just', 'to', 'be', 'the', 'man', 'who', 'walks', 'a', 'thousand', 'miles', 'to', 'fall', 'down', 'at', 'your', 'door', '!']\n",
      "\n",
      " Cleaned version :  ['I', 'walk', '500', 'miles', 'I', 'would', 'walk', '500', '.', 'Just', 'man', 'walks', 'thousand', 'miles', 'fall', 'door', '!']\n"
     ]
    }
   ],
   "source": [
    "from nltk.corpus import stopwords\n",
    "\n",
    "stop_words = stopwords.words('english')\n",
    "\n",
    "token = word_tokenize(sentence1)\n",
    "cleaned_token = []\n",
    "\n",
    "for word in token:\n",
    "    if word not in stop_words:\n",
    "        cleaned_token.append(word)\n",
    "        \n",
    "print('Unclean version : ',token)\n",
    "print('\\n Cleaned version : ',cleaned_token)"
   ]
  },
  {
   "cell_type": "markdown",
   "id": "c617c671",
   "metadata": {},
   "source": [
    "# Stemming "
   ]
  },
  {
   "cell_type": "code",
   "execution_count": 10,
   "id": "7e5aac5c",
   "metadata": {},
   "outputs": [
    {
     "name": "stdout",
     "output_type": "stream",
     "text": [
      "i play the play play as the player were play in the play with playful\n"
     ]
    }
   ],
   "source": [
    "from nltk.stem import PorterStemmer\n",
    "\n",
    "stemmer = PorterStemmer()\n",
    "token = word_tokenize(sentence2)\n",
    "stemmed = [stemmer.stem(word) for word in token]\n",
    "\n",
    "print(\" \".join(stemmed))"
   ]
  },
  {
   "cell_type": "markdown",
   "id": "bb66e948",
   "metadata": {},
   "source": [
    "# lemmatization"
   ]
  },
  {
   "cell_type": "code",
   "execution_count": 12,
   "id": "30749daa",
   "metadata": {},
   "outputs": [
    {
     "name": "stdout",
     "output_type": "stream",
     "text": [
      "I will walk 500 mile and I would walk 500 more . Just to be the man who walk a thousand mile to fall down at your door !\n"
     ]
    }
   ],
   "source": [
    "from nltk.stem import WordNetLemmatizer\n",
    "\n",
    "lemmatizer = WordNetLemmatizer()\n",
    "token = word_tokenize(sentence1)\n",
    "lemmatized_output = [lemmatizer.lemmatize(word) for word in token]\n",
    "\n",
    "print(' '.join(lemmatized_output))"
   ]
  },
  {
   "cell_type": "markdown",
   "id": "bd101c43",
   "metadata": {},
   "source": [
    "# PART2"
   ]
  },
  {
   "cell_type": "code",
   "execution_count": 1,
   "id": "9a67760a",
   "metadata": {},
   "outputs": [],
   "source": [
    "import pandas as pd\n",
    "from sklearn.feature_extraction.text import TfidfVectorizer"
   ]
  },
  {
   "cell_type": "code",
   "execution_count": 2,
   "id": "5cd0a4c8",
   "metadata": {},
   "outputs": [],
   "source": [
    "documentA = 'Jupiter is the largest Planet'\n",
    "documentB = 'Mars is the first planet from the Sun'"
   ]
  },
  {
   "cell_type": "code",
   "execution_count": 3,
   "id": "e16b6f7d",
   "metadata": {},
   "outputs": [],
   "source": [
    "bagOfWordsA = documentA.split(' ')\n",
    "bagOfWordsB = documentB.split(' ')"
   ]
  },
  {
   "cell_type": "code",
   "execution_count": 4,
   "id": "583e5e0f",
   "metadata": {},
   "outputs": [
    {
     "data": {
      "text/plain": [
       "{'Jupiter',\n",
       " 'Mars',\n",
       " 'Planet',\n",
       " 'Sun',\n",
       " 'first',\n",
       " 'from',\n",
       " 'is',\n",
       " 'largest',\n",
       " 'planet',\n",
       " 'the'}"
      ]
     },
     "execution_count": 4,
     "metadata": {},
     "output_type": "execute_result"
    }
   ],
   "source": [
    "uniqueWords = set(bagOfWordsA).union(bagOfWordsB)\n",
    "uniqueWords"
   ]
  },
  {
   "cell_type": "code",
   "execution_count": 5,
   "id": "d03c99e4",
   "metadata": {},
   "outputs": [],
   "source": [
    "numOfWordsA = dict.fromkeys(uniqueWords,0)"
   ]
  },
  {
   "cell_type": "code",
   "execution_count": 8,
   "id": "2ed928de",
   "metadata": {},
   "outputs": [],
   "source": [
    "for word in bagOfWordsA:\n",
    "    numOfWordsA[word]+= 1"
   ]
  },
  {
   "cell_type": "code",
   "execution_count": 11,
   "id": "5aec9e01",
   "metadata": {},
   "outputs": [],
   "source": [
    "numOfWordsB = dict.fromkeys(uniqueWords,0)\n",
    "for word in bagOfWordsB:\n",
    "    numOfWordsB[word]+= 1"
   ]
  },
  {
   "cell_type": "code",
   "execution_count": 14,
   "id": "ddf9db6a",
   "metadata": {},
   "outputs": [
    {
     "data": {
      "text/plain": [
       "{'Jupiter': 0,\n",
       " 'largest': 0,\n",
       " 'Planet': 0,\n",
       " 'first': 1,\n",
       " 'planet': 1,\n",
       " 'is': 1,\n",
       " 'from': 1,\n",
       " 'Sun': 1,\n",
       " 'the': 2,\n",
       " 'Mars': 1}"
      ]
     },
     "execution_count": 14,
     "metadata": {},
     "output_type": "execute_result"
    }
   ],
   "source": [
    "numOfWordsB"
   ]
  },
  {
   "cell_type": "code",
   "execution_count": 18,
   "id": "9facb4c2",
   "metadata": {},
   "outputs": [],
   "source": [
    "def computeTF(wordDict,bagOfWords):\n",
    "    TfDict = {}\n",
    "    bagOfWordsCount = len(bagOfWords)\n",
    "    for word,count in wordDict.items():\n",
    "        TfDict[word]= count/float(bagOfWordsCount)\n",
    "    return TfDict"
   ]
  },
  {
   "cell_type": "code",
   "execution_count": 20,
   "id": "0915c3ef",
   "metadata": {},
   "outputs": [],
   "source": [
    "tfA =computeTF(numOfWordsA,bagOfWordsA)\n",
    "tfB =computeTF(numOfWordsB,bagOfWordsB)"
   ]
  },
  {
   "cell_type": "code",
   "execution_count": 21,
   "id": "17170bd6",
   "metadata": {},
   "outputs": [
    {
     "data": {
      "text/plain": [
       "{'Jupiter': 0.2,\n",
       " 'largest': 0.2,\n",
       " 'Planet': 0.2,\n",
       " 'first': 0.0,\n",
       " 'planet': 0.0,\n",
       " 'is': 0.2,\n",
       " 'from': 0.0,\n",
       " 'Sun': 0.0,\n",
       " 'the': 0.2,\n",
       " 'Mars': 0.0}"
      ]
     },
     "execution_count": 21,
     "metadata": {},
     "output_type": "execute_result"
    }
   ],
   "source": [
    "tfA"
   ]
  },
  {
   "cell_type": "code",
   "execution_count": 22,
   "id": "c099fd72",
   "metadata": {},
   "outputs": [
    {
     "data": {
      "text/plain": [
       "{'Jupiter': 0.0,\n",
       " 'largest': 0.0,\n",
       " 'Planet': 0.0,\n",
       " 'first': 0.125,\n",
       " 'planet': 0.125,\n",
       " 'is': 0.125,\n",
       " 'from': 0.125,\n",
       " 'Sun': 0.125,\n",
       " 'the': 0.25,\n",
       " 'Mars': 0.125}"
      ]
     },
     "execution_count": 22,
     "metadata": {},
     "output_type": "execute_result"
    }
   ],
   "source": [
    "tfB"
   ]
  },
  {
   "cell_type": "code",
   "execution_count": 23,
   "id": "da81b21c",
   "metadata": {},
   "outputs": [],
   "source": [
    "def computeIDF(documents):\n",
    "    import math\n",
    "    N= len(documents)\n",
    "    idfDict = dict.fromkeys(documents[0].keys(),0)\n",
    "    for document in documents:\n",
    "        for word, val in document.items():\n",
    "            if val > 0:\n",
    "                idfDict[word]+=1\n",
    "    for word,val in idfDict.items():\n",
    "        idfDict[word] = math.log(N/float(val))\n",
    "    return idfDict\n",
    "    \n"
   ]
  },
  {
   "cell_type": "code",
   "execution_count": 24,
   "id": "0fb58fef",
   "metadata": {},
   "outputs": [],
   "source": [
    "idfs = computeIDF([numOfWordsA,numOfWordsB])"
   ]
  },
  {
   "cell_type": "code",
   "execution_count": 25,
   "id": "87be8572",
   "metadata": {},
   "outputs": [
    {
     "data": {
      "text/plain": [
       "{'Jupiter': 0.6931471805599453,\n",
       " 'largest': 0.6931471805599453,\n",
       " 'Planet': 0.6931471805599453,\n",
       " 'first': 0.6931471805599453,\n",
       " 'planet': 0.6931471805599453,\n",
       " 'is': 0.0,\n",
       " 'from': 0.6931471805599453,\n",
       " 'Sun': 0.6931471805599453,\n",
       " 'the': 0.0,\n",
       " 'Mars': 0.6931471805599453}"
      ]
     },
     "execution_count": 25,
     "metadata": {},
     "output_type": "execute_result"
    }
   ],
   "source": [
    "idfs"
   ]
  },
  {
   "cell_type": "code",
   "execution_count": 31,
   "id": "7dc6791c",
   "metadata": {},
   "outputs": [],
   "source": [
    "def computeTFIDF(tfBagOfWords,idfs):\n",
    "    tfidf ={}\n",
    "    for word , val in tfBagOfWords.items():\n",
    "        tfidf[word] = val*idfs[word]\n",
    "    return tfidf\n",
    "        "
   ]
  },
  {
   "cell_type": "code",
   "execution_count": 32,
   "id": "641c77d9",
   "metadata": {},
   "outputs": [],
   "source": [
    "tfidfA = computeTFIDF(tfA,idfs)\n",
    "tfidfB = computeTFIDF(tfB,idfs)"
   ]
  },
  {
   "cell_type": "code",
   "execution_count": 33,
   "id": "fc792dd8",
   "metadata": {},
   "outputs": [
    {
     "data": {
      "text/plain": [
       "{'Jupiter': 0.13862943611198905,\n",
       " 'largest': 0.13862943611198905,\n",
       " 'Planet': 0.13862943611198905,\n",
       " 'first': 0.0,\n",
       " 'planet': 0.0,\n",
       " 'is': 0.0,\n",
       " 'from': 0.0,\n",
       " 'Sun': 0.0,\n",
       " 'the': 0.0,\n",
       " 'Mars': 0.0}"
      ]
     },
     "execution_count": 33,
     "metadata": {},
     "output_type": "execute_result"
    }
   ],
   "source": [
    "tfidfA"
   ]
  },
  {
   "cell_type": "code",
   "execution_count": 34,
   "id": "8f8682f6",
   "metadata": {},
   "outputs": [
    {
     "data": {
      "text/plain": [
       "{'Jupiter': 0.0,\n",
       " 'largest': 0.0,\n",
       " 'Planet': 0.0,\n",
       " 'first': 0.08664339756999316,\n",
       " 'planet': 0.08664339756999316,\n",
       " 'is': 0.0,\n",
       " 'from': 0.08664339756999316,\n",
       " 'Sun': 0.08664339756999316,\n",
       " 'the': 0.0,\n",
       " 'Mars': 0.08664339756999316}"
      ]
     },
     "execution_count": 34,
     "metadata": {},
     "output_type": "execute_result"
    }
   ],
   "source": [
    "tfidfB"
   ]
  },
  {
   "cell_type": "code",
   "execution_count": 35,
   "id": "7851ccd2",
   "metadata": {},
   "outputs": [],
   "source": [
    "df = pd.DataFrame([tfidfA,tfidfB])"
   ]
  },
  {
   "cell_type": "code",
   "execution_count": 36,
   "id": "75316378",
   "metadata": {},
   "outputs": [
    {
     "data": {
      "text/html": [
       "<div>\n",
       "<style scoped>\n",
       "    .dataframe tbody tr th:only-of-type {\n",
       "        vertical-align: middle;\n",
       "    }\n",
       "\n",
       "    .dataframe tbody tr th {\n",
       "        vertical-align: top;\n",
       "    }\n",
       "\n",
       "    .dataframe thead th {\n",
       "        text-align: right;\n",
       "    }\n",
       "</style>\n",
       "<table border=\"1\" class=\"dataframe\">\n",
       "  <thead>\n",
       "    <tr style=\"text-align: right;\">\n",
       "      <th></th>\n",
       "      <th>Jupiter</th>\n",
       "      <th>largest</th>\n",
       "      <th>Planet</th>\n",
       "      <th>first</th>\n",
       "      <th>planet</th>\n",
       "      <th>is</th>\n",
       "      <th>from</th>\n",
       "      <th>Sun</th>\n",
       "      <th>the</th>\n",
       "      <th>Mars</th>\n",
       "    </tr>\n",
       "  </thead>\n",
       "  <tbody>\n",
       "    <tr>\n",
       "      <th>0</th>\n",
       "      <td>0.138629</td>\n",
       "      <td>0.138629</td>\n",
       "      <td>0.138629</td>\n",
       "      <td>0.000000</td>\n",
       "      <td>0.000000</td>\n",
       "      <td>0.0</td>\n",
       "      <td>0.000000</td>\n",
       "      <td>0.000000</td>\n",
       "      <td>0.0</td>\n",
       "      <td>0.000000</td>\n",
       "    </tr>\n",
       "    <tr>\n",
       "      <th>1</th>\n",
       "      <td>0.000000</td>\n",
       "      <td>0.000000</td>\n",
       "      <td>0.000000</td>\n",
       "      <td>0.086643</td>\n",
       "      <td>0.086643</td>\n",
       "      <td>0.0</td>\n",
       "      <td>0.086643</td>\n",
       "      <td>0.086643</td>\n",
       "      <td>0.0</td>\n",
       "      <td>0.086643</td>\n",
       "    </tr>\n",
       "  </tbody>\n",
       "</table>\n",
       "</div>"
      ],
      "text/plain": [
       "    Jupiter   largest    Planet     first    planet   is      from       Sun   \n",
       "0  0.138629  0.138629  0.138629  0.000000  0.000000  0.0  0.000000  0.000000  \\\n",
       "1  0.000000  0.000000  0.000000  0.086643  0.086643  0.0  0.086643  0.086643   \n",
       "\n",
       "   the      Mars  \n",
       "0  0.0  0.000000  \n",
       "1  0.0  0.086643  "
      ]
     },
     "execution_count": 36,
     "metadata": {},
     "output_type": "execute_result"
    }
   ],
   "source": [
    "df"
   ]
  },
  {
   "cell_type": "code",
   "execution_count": null,
   "id": "4f5b8be9",
   "metadata": {},
   "outputs": [],
   "source": []
  }
 ],
 "metadata": {
  "kernelspec": {
   "display_name": "Python 3 (ipykernel)",
   "language": "python",
   "name": "python3"
  },
  "language_info": {
   "codemirror_mode": {
    "name": "ipython",
    "version": 3
   },
   "file_extension": ".py",
   "mimetype": "text/x-python",
   "name": "python",
   "nbconvert_exporter": "python",
   "pygments_lexer": "ipython3",
   "version": "3.8.10"
  }
 },
 "nbformat": 4,
 "nbformat_minor": 5
}
