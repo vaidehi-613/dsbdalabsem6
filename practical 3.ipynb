{
 "cells": [
  {
   "cell_type": "code",
   "execution_count": 2,
   "id": "bb4b4f03",
   "metadata": {},
   "outputs": [],
   "source": [
    "import numpy as np"
   ]
  },
  {
   "cell_type": "code",
   "execution_count": 3,
   "id": "b0cd82e0",
   "metadata": {},
   "outputs": [
    {
     "data": {
      "text/plain": [
       "89.91666666666667"
      ]
     },
     "execution_count": 3,
     "metadata": {},
     "output_type": "execute_result"
    }
   ],
   "source": [
    "speed = [99,86,87,111,86,103,87,94,78,77,85,86]\n",
    "x = np.mean(speed)\n",
    "x"
   ]
  },
  {
   "cell_type": "code",
   "execution_count": 4,
   "id": "025ed429",
   "metadata": {},
   "outputs": [
    {
     "data": {
      "text/plain": [
       "86.5"
      ]
     },
     "execution_count": 4,
     "metadata": {},
     "output_type": "execute_result"
    }
   ],
   "source": [
    "y = np.median(speed)\n",
    "y"
   ]
  },
  {
   "cell_type": "code",
   "execution_count": 5,
   "id": "7834b54f",
   "metadata": {},
   "outputs": [
    {
     "name": "stderr",
     "output_type": "stream",
     "text": [
      "C:\\Users\\ASUS\\AppData\\Local\\Temp\\ipykernel_16208\\1722516163.py:2: FutureWarning: Unlike other reduction functions (e.g. `skew`, `kurtosis`), the default behavior of `mode` typically preserves the axis it acts along. In SciPy 1.11.0, this behavior will change: the default value of `keepdims` will become False, the `axis` over which the statistic is taken will be eliminated, and the value None will no longer be accepted. Set `keepdims` to True or False to avoid this warning.\n",
      "  z= stats.mode(speed)\n"
     ]
    },
    {
     "data": {
      "text/plain": [
       "ModeResult(mode=array([86]), count=array([3]))"
      ]
     },
     "execution_count": 5,
     "metadata": {},
     "output_type": "execute_result"
    }
   ],
   "source": [
    "from scipy import stats\n",
    "z= stats.mode(speed)\n",
    "z"
   ]
  },
  {
   "cell_type": "code",
   "execution_count": 6,
   "id": "004f1621",
   "metadata": {},
   "outputs": [
    {
     "name": "stdout",
     "output_type": "stream",
     "text": [
      "Mean / Average : 3.0\n"
     ]
    }
   ],
   "source": [
    "n_num = [1,2,3,4,5]\n",
    "n = len(n_num)\n",
    "\n",
    "get_sum = sum(n_num)\n",
    "mean = get_sum / n\n",
    "print(\"Mean / Average : \"+ str(mean))"
   ]
  },
  {
   "cell_type": "code",
   "execution_count": 8,
   "id": "d4839db0",
   "metadata": {},
   "outputs": [
    {
     "name": "stdout",
     "output_type": "stream",
     "text": [
      "median is : 3\n"
     ]
    }
   ],
   "source": [
    "n_num.sort()\n",
    "\n",
    "if n%2 ==0:\n",
    "    median1 = n_num[n//2]\n",
    "    median2 = n_num[n//2-1]\n",
    "    median = (median1+median2) / 2\n",
    "else:\n",
    "    median = n_num[n//2]\n",
    "print(\"median is : \"+ str(median))"
   ]
  },
  {
   "cell_type": "code",
   "execution_count": 9,
   "id": "e7e1d82c",
   "metadata": {},
   "outputs": [
    {
     "name": "stdout",
     "output_type": "stream",
     "text": [
      "Mode is/are : 5\n"
     ]
    }
   ],
   "source": [
    "from collections import Counter\n",
    "\n",
    "n_num = [1,1,2,3,4,5,5,5]\n",
    "n = len(n_num)\n",
    "data = Counter(n_num)\n",
    "get_mode = dict(data)\n",
    "mode = [k for k, v in get_mode.items() if v == max(list(data.values()))]\n",
    "\n",
    "if len(mode) ==n:\n",
    "    get_mode = 'No mode found'\n",
    "else: \n",
    "    get_mode = 'Mode is/are : ' + \", \".join(map(str,mode))\n",
    "print(get_mode)"
   ]
  },
  {
   "cell_type": "code",
   "execution_count": 17,
   "id": "f4b173df",
   "metadata": {},
   "outputs": [],
   "source": [
    "qualitative_variable = ['Category A', 'Category A', 'Category B', 'Category B', 'Category B', 'Category C']\n",
    "numeric_variable = [1000, 1500, 2000, 2500, 3000, 3500]\n"
   ]
  },
  {
   "cell_type": "code",
   "execution_count": 18,
   "id": "6c89ea8b",
   "metadata": {},
   "outputs": [],
   "source": [
    "import numpy as np\n"
   ]
  },
  {
   "cell_type": "code",
   "execution_count": 19,
   "id": "4a7153be",
   "metadata": {},
   "outputs": [],
   "source": [
    "grouped_data = {}\n"
   ]
  },
  {
   "cell_type": "code",
   "execution_count": 20,
   "id": "4408a11a",
   "metadata": {},
   "outputs": [],
   "source": [
    "for category in set(qualitative_variable):\n",
    "    values = [numeric_variable[i] for i in range(len(numeric_variable)) if qualitative_variable[i] == category]\n",
    "    mean = np.mean(values)\n",
    "    median = np.median(values)\n",
    "    minimum = np.min(values)\n",
    "    maximum = np.max(values)\n",
    "    standard_deviation = np.std(values)\n",
    "    grouped_data[category] = [mean, median, minimum, maximum, standard_deviation]\n"
   ]
  },
  {
   "cell_type": "code",
   "execution_count": 21,
   "id": "141dd882",
   "metadata": {},
   "outputs": [
    {
     "name": "stdout",
     "output_type": "stream",
     "text": [
      "Category: Category C\n",
      "Mean: 3500.0\n",
      "Median: 3500.0\n",
      "Minimum: 3500\n",
      "Maximum: 3500\n",
      "Standard Deviation: 0.0\n",
      "\n",
      "Category: Category A\n",
      "Mean: 1250.0\n",
      "Median: 1250.0\n",
      "Minimum: 1000\n",
      "Maximum: 1500\n",
      "Standard Deviation: 250.0\n",
      "\n",
      "Category: Category B\n",
      "Mean: 2500.0\n",
      "Median: 2500.0\n",
      "Minimum: 2000\n",
      "Maximum: 3000\n",
      "Standard Deviation: 408.248290463863\n",
      "\n"
     ]
    }
   ],
   "source": [
    "for category, statistics in grouped_data.items():\n",
    "    print(f\"Category: {category}\")\n",
    "    print(f\"Mean: {statistics[0]}\")\n",
    "    print(f\"Median: {statistics[1]}\")\n",
    "    print(f\"Minimum: {statistics[2]}\")\n",
    "    print(f\"Maximum: {statistics[3]}\")\n",
    "    print(f\"Standard Deviation: {statistics[4]}\")\n",
    "    print()\n"
   ]
  },
  {
   "cell_type": "code",
   "execution_count": 22,
   "id": "d008528b",
   "metadata": {},
   "outputs": [],
   "source": [
    "import pandas as pd"
   ]
  },
  {
   "cell_type": "code",
   "execution_count": 23,
   "id": "e3a9a98e",
   "metadata": {},
   "outputs": [],
   "source": [
    "df  =  pd.read_csv('Iris.csv')"
   ]
  },
  {
   "cell_type": "code",
   "execution_count": 25,
   "id": "9c395389",
   "metadata": {},
   "outputs": [
    {
     "name": "stdout",
     "output_type": "stream",
     "text": [
      "Iris-setosa\n",
      "             Id  SepalLengthCm  SepalWidthCm  PetalLengthCm  PetalWidthCm\n",
      "count  50.00000       50.00000     50.000000      50.000000      50.00000\n",
      "mean   25.50000        5.00600      3.418000       1.464000       0.24400\n",
      "std    14.57738        0.35249      0.381024       0.173511       0.10721\n",
      "min     1.00000        4.30000      2.300000       1.000000       0.10000\n",
      "25%    13.25000        4.80000      3.125000       1.400000       0.20000\n",
      "50%    25.50000        5.00000      3.400000       1.500000       0.20000\n",
      "75%    37.75000        5.20000      3.675000       1.575000       0.30000\n",
      "max    50.00000        5.80000      4.400000       1.900000       0.60000\n"
     ]
    }
   ],
   "source": [
    "print(\"Iris-setosa\")\n",
    "setosa = df['Species'] == 'Iris-setosa'\n",
    "print(df[setosa].describe())"
   ]
  },
  {
   "cell_type": "code",
   "execution_count": 27,
   "id": "3b37120e",
   "metadata": {},
   "outputs": [
    {
     "name": "stdout",
     "output_type": "stream",
     "text": [
      "Iris-versicolor\n",
      "              Id  SepalLengthCm  SepalWidthCm  PetalLengthCm  PetalWidthCm\n",
      "count   50.00000      50.000000     50.000000      50.000000     50.000000\n",
      "mean    75.50000       5.936000      2.770000       4.260000      1.326000\n",
      "std     14.57738       0.516171      0.313798       0.469911      0.197753\n",
      "min     51.00000       4.900000      2.000000       3.000000      1.000000\n",
      "25%     63.25000       5.600000      2.525000       4.000000      1.200000\n",
      "50%     75.50000       5.900000      2.800000       4.350000      1.300000\n",
      "75%     87.75000       6.300000      3.000000       4.600000      1.500000\n",
      "max    100.00000       7.000000      3.400000       5.100000      1.800000\n"
     ]
    }
   ],
   "source": [
    "print('Iris-versicolor')\n",
    "versicolor = df['Species'] =='Iris-versicolor'\n",
    "print(df[versicolor].describe())"
   ]
  },
  {
   "cell_type": "code",
   "execution_count": 28,
   "id": "38c2b9a4",
   "metadata": {},
   "outputs": [
    {
     "name": "stdout",
     "output_type": "stream",
     "text": [
      "Iris-virginica\n",
      "              Id  SepalLengthCm  SepalWidthCm  PetalLengthCm  PetalWidthCm\n",
      "count   50.00000       50.00000     50.000000      50.000000      50.00000\n",
      "mean   125.50000        6.58800      2.974000       5.552000       2.02600\n",
      "std     14.57738        0.63588      0.322497       0.551895       0.27465\n",
      "min    101.00000        4.90000      2.200000       4.500000       1.40000\n",
      "25%    113.25000        6.22500      2.800000       5.100000       1.80000\n",
      "50%    125.50000        6.50000      3.000000       5.550000       2.00000\n",
      "75%    137.75000        6.90000      3.175000       5.875000       2.30000\n",
      "max    150.00000        7.90000      3.800000       6.900000       2.50000\n"
     ]
    }
   ],
   "source": [
    "print('Iris-virginica')\n",
    "virginica = df['Species'] == 'Iris-virginica'\n",
    "print(df[virginica].describe())"
   ]
  },
  {
   "cell_type": "code",
   "execution_count": null,
   "id": "ac6f3b89",
   "metadata": {},
   "outputs": [],
   "source": []
  }
 ],
 "metadata": {
  "kernelspec": {
   "display_name": "Python 3 (ipykernel)",
   "language": "python",
   "name": "python3"
  },
  "language_info": {
   "codemirror_mode": {
    "name": "ipython",
    "version": 3
   },
   "file_extension": ".py",
   "mimetype": "text/x-python",
   "name": "python",
   "nbconvert_exporter": "python",
   "pygments_lexer": "ipython3",
   "version": "3.8.10"
  }
 },
 "nbformat": 4,
 "nbformat_minor": 5
}
